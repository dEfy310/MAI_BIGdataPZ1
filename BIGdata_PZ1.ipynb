{
 "cells": [
  {
   "cell_type": "code",
   "execution_count": 70,
   "id": "initial_id",
   "metadata": {
    "collapsed": true,
    "ExecuteTime": {
     "end_time": "2024-05-26T13:59:58.070609900Z",
     "start_time": "2024-05-26T13:59:57.969749700Z"
    }
   },
   "outputs": [],
   "source": [
    "import numpy as np\n",
    "import pandas as pd\n",
    "df = pd.read_csv(\"data (1).csv\")\n",
    "pd.options.mode.chained_assignment = None"
   ]
  },
  {
   "cell_type": "markdown",
   "source": [
    "Импортируем необходимые бибилотеки, а также читаем и выводим исходный дата фрейм"
   ],
   "metadata": {
    "collapsed": false
   },
   "id": "ccfeb93992acca55"
  },
  {
   "cell_type": "code",
   "execution_count": 71,
   "outputs": [
    {
     "data": {
      "text/plain": "children               0\ndays_employed       2174\ndob_years              0\neducation              0\neducation_id           0\nfamily_status          0\nfamily_status_id       0\ngender                 0\nincome_type            0\ndebt                   0\ntotal_income        2174\npurpose                0\ndtype: int64"
     },
     "execution_count": 71,
     "metadata": {},
     "output_type": "execute_result"
    }
   ],
   "source": [
    "df.isnull().sum()"
   ],
   "metadata": {
    "collapsed": false,
    "ExecuteTime": {
     "end_time": "2024-05-26T13:59:58.075459600Z",
     "start_time": "2024-05-26T13:59:58.047821900Z"
    }
   },
   "id": "f0d28fc1e51ee41a"
  },
  {
   "cell_type": "markdown",
   "source": [
    "Во всем файле найдены пустые значения только в двух столбцах, которые содержат информацию о количестве отработанных дней а также о ежемесячном доходе, из чего можно сделать вывод о том, что человек сейчас не трудоустроен, т.е. не может получать за это зарплату"
   ],
   "metadata": {
    "collapsed": false
   },
   "id": "29997aa974540a21"
  },
  {
   "cell_type": "code",
   "execution_count": 72,
   "outputs": [
    {
     "data": {
      "text/plain": "na_days_employed_percent    10.099884\nna_total_income_percent     10.099884\ndtype: float64"
     },
     "execution_count": 72,
     "metadata": {},
     "output_type": "execute_result"
    }
   ],
   "source": [
    "data =  {'na_days_employed_percent': df['days_employed'].isnull().sum()/len(df['days_employed'])*100, 'na_total_income_percent':df['total_income'].isnull().sum()/len(df['total_income'])*100}\n",
    "df1 = pd.Series(data)\n",
    "df1"
   ],
   "metadata": {
    "collapsed": false,
    "ExecuteTime": {
     "end_time": "2024-05-26T13:59:58.084155900Z",
     "start_time": "2024-05-26T13:59:58.067595300Z"
    }
   },
   "id": "53a72c5a0f35e14c"
  },
  {
   "cell_type": "markdown",
   "source": [
    "рассчет доли количества пропусков от общего количества значений в столбце в процентах. Pandas позволяет нам увидеть готовую гистограмму нашего датафрейма, для этого необходимо надать на иконку графика в окне вывода отработанного блока кода, и мы увидим гистограмму нашего фрейма данных."
   ],
   "metadata": {
    "collapsed": false
   },
   "id": "bd0b8d0eb62b5d39"
  },
  {
   "cell_type": "code",
   "execution_count": 73,
   "outputs": [
    {
     "data": {
      "text/plain": "       children  days_employed  dob_years education  education_id  \\\n0             1    8437.673028         42    высшее             0   \n1             1    4024.803754         36   среднее             1   \n2             0    5623.422610         33   Среднее             1   \n3             3    4124.747207         32   среднее             1   \n4             0  340266.072047         53   среднее             1   \n...         ...            ...        ...       ...           ...   \n21520         1    4529.316663         43   среднее             1   \n21521         0  343937.404131         67   среднее             1   \n21522         1    2113.346888         38   среднее             1   \n21523         3    3112.481705         38   среднее             1   \n21524         2    1984.507589         40   среднее             1   \n\n          family_status  family_status_id gender income_type  debt  \\\n0       женат / замужем                 0      F   сотрудник     0   \n1       женат / замужем                 0      F   сотрудник     0   \n2       женат / замужем                 0      M   сотрудник     0   \n3       женат / замужем                 0      M   сотрудник     0   \n4      гражданский брак                 1      F   пенсионер     0   \n...                 ...               ...    ...         ...   ...   \n21520  гражданский брак                 1      F   компаньон     0   \n21521   женат / замужем                 0      F   пенсионер     0   \n21522  гражданский брак                 1      M   сотрудник     1   \n21523   женат / замужем                 0      M   сотрудник     1   \n21524   женат / замужем                 0      F   сотрудник     0   \n\n        total_income                       purpose  \n0      253875.639453                 покупка жилья  \n1      112080.014102       приобретение автомобиля  \n2      145885.952297                 покупка жилья  \n3      267628.550329    дополнительное образование  \n4      158616.077870               сыграть свадьбу  \n...              ...                           ...  \n21520  224791.862382             операции с жильем  \n21521  155999.806512          сделка с автомобилем  \n21522   89672.561153                  недвижимость  \n21523  244093.050500  на покупку своего автомобиля  \n21524   82047.418899         на покупку автомобиля  \n\n[21525 rows x 12 columns]",
      "text/html": "<div>\n<style scoped>\n    .dataframe tbody tr th:only-of-type {\n        vertical-align: middle;\n    }\n\n    .dataframe tbody tr th {\n        vertical-align: top;\n    }\n\n    .dataframe thead th {\n        text-align: right;\n    }\n</style>\n<table border=\"1\" class=\"dataframe\">\n  <thead>\n    <tr style=\"text-align: right;\">\n      <th></th>\n      <th>children</th>\n      <th>days_employed</th>\n      <th>dob_years</th>\n      <th>education</th>\n      <th>education_id</th>\n      <th>family_status</th>\n      <th>family_status_id</th>\n      <th>gender</th>\n      <th>income_type</th>\n      <th>debt</th>\n      <th>total_income</th>\n      <th>purpose</th>\n    </tr>\n  </thead>\n  <tbody>\n    <tr>\n      <th>0</th>\n      <td>1</td>\n      <td>8437.673028</td>\n      <td>42</td>\n      <td>высшее</td>\n      <td>0</td>\n      <td>женат / замужем</td>\n      <td>0</td>\n      <td>F</td>\n      <td>сотрудник</td>\n      <td>0</td>\n      <td>253875.639453</td>\n      <td>покупка жилья</td>\n    </tr>\n    <tr>\n      <th>1</th>\n      <td>1</td>\n      <td>4024.803754</td>\n      <td>36</td>\n      <td>среднее</td>\n      <td>1</td>\n      <td>женат / замужем</td>\n      <td>0</td>\n      <td>F</td>\n      <td>сотрудник</td>\n      <td>0</td>\n      <td>112080.014102</td>\n      <td>приобретение автомобиля</td>\n    </tr>\n    <tr>\n      <th>2</th>\n      <td>0</td>\n      <td>5623.422610</td>\n      <td>33</td>\n      <td>Среднее</td>\n      <td>1</td>\n      <td>женат / замужем</td>\n      <td>0</td>\n      <td>M</td>\n      <td>сотрудник</td>\n      <td>0</td>\n      <td>145885.952297</td>\n      <td>покупка жилья</td>\n    </tr>\n    <tr>\n      <th>3</th>\n      <td>3</td>\n      <td>4124.747207</td>\n      <td>32</td>\n      <td>среднее</td>\n      <td>1</td>\n      <td>женат / замужем</td>\n      <td>0</td>\n      <td>M</td>\n      <td>сотрудник</td>\n      <td>0</td>\n      <td>267628.550329</td>\n      <td>дополнительное образование</td>\n    </tr>\n    <tr>\n      <th>4</th>\n      <td>0</td>\n      <td>340266.072047</td>\n      <td>53</td>\n      <td>среднее</td>\n      <td>1</td>\n      <td>гражданский брак</td>\n      <td>1</td>\n      <td>F</td>\n      <td>пенсионер</td>\n      <td>0</td>\n      <td>158616.077870</td>\n      <td>сыграть свадьбу</td>\n    </tr>\n    <tr>\n      <th>...</th>\n      <td>...</td>\n      <td>...</td>\n      <td>...</td>\n      <td>...</td>\n      <td>...</td>\n      <td>...</td>\n      <td>...</td>\n      <td>...</td>\n      <td>...</td>\n      <td>...</td>\n      <td>...</td>\n      <td>...</td>\n    </tr>\n    <tr>\n      <th>21520</th>\n      <td>1</td>\n      <td>4529.316663</td>\n      <td>43</td>\n      <td>среднее</td>\n      <td>1</td>\n      <td>гражданский брак</td>\n      <td>1</td>\n      <td>F</td>\n      <td>компаньон</td>\n      <td>0</td>\n      <td>224791.862382</td>\n      <td>операции с жильем</td>\n    </tr>\n    <tr>\n      <th>21521</th>\n      <td>0</td>\n      <td>343937.404131</td>\n      <td>67</td>\n      <td>среднее</td>\n      <td>1</td>\n      <td>женат / замужем</td>\n      <td>0</td>\n      <td>F</td>\n      <td>пенсионер</td>\n      <td>0</td>\n      <td>155999.806512</td>\n      <td>сделка с автомобилем</td>\n    </tr>\n    <tr>\n      <th>21522</th>\n      <td>1</td>\n      <td>2113.346888</td>\n      <td>38</td>\n      <td>среднее</td>\n      <td>1</td>\n      <td>гражданский брак</td>\n      <td>1</td>\n      <td>M</td>\n      <td>сотрудник</td>\n      <td>1</td>\n      <td>89672.561153</td>\n      <td>недвижимость</td>\n    </tr>\n    <tr>\n      <th>21523</th>\n      <td>3</td>\n      <td>3112.481705</td>\n      <td>38</td>\n      <td>среднее</td>\n      <td>1</td>\n      <td>женат / замужем</td>\n      <td>0</td>\n      <td>M</td>\n      <td>сотрудник</td>\n      <td>1</td>\n      <td>244093.050500</td>\n      <td>на покупку своего автомобиля</td>\n    </tr>\n    <tr>\n      <th>21524</th>\n      <td>2</td>\n      <td>1984.507589</td>\n      <td>40</td>\n      <td>среднее</td>\n      <td>1</td>\n      <td>женат / замужем</td>\n      <td>0</td>\n      <td>F</td>\n      <td>сотрудник</td>\n      <td>0</td>\n      <td>82047.418899</td>\n      <td>на покупку автомобиля</td>\n    </tr>\n  </tbody>\n</table>\n<p>21525 rows × 12 columns</p>\n</div>"
     },
     "execution_count": 73,
     "metadata": {},
     "output_type": "execute_result"
    }
   ],
   "source": [
    "df.loc[(df.days_employed < 0), 'days_employed'] = df.days_employed.abs()\n",
    "df.fillna(df['days_employed'].median(), inplace=True)\n",
    "df"
   ],
   "metadata": {
    "collapsed": false,
    "ExecuteTime": {
     "end_time": "2024-05-26T13:59:58.125065700Z",
     "start_time": "2024-05-26T13:59:58.080608600Z"
    }
   },
   "id": "11aa99e6feec04e2"
  },
  {
   "cell_type": "markdown",
   "source": [
    "Заполнение данных медианным способом является лучшим решением для количественных переменных, так как на медиану не влияет посторонний \"шум\". К тому же, количество наших данных велико, поэтому медиана будет равняться среднему значению данных.\n",
    "данный блок кода проверяет каждое значение в столбце days_employed, и если оно отрицательно, то возвращеает это же значение по модулю, а также заполняет пропуски медианным способом Возможно, отрицательность значений вызвана программным сбоем при заполнении значений"
   ],
   "metadata": {
    "collapsed": false
   },
   "id": "78c0727c28d8fd8f"
  },
  {
   "cell_type": "code",
   "execution_count": 74,
   "outputs": [
    {
     "data": {
      "text/plain": "       children  days_employed  dob_years education  education_id  \\\n0             1    8437.673028         42    высшее             0   \n1             1    4024.803754         36   среднее             1   \n2             0    5623.422610         33   Среднее             1   \n3             3    4124.747207         32   среднее             1   \n4             0  340266.072047         53   среднее             1   \n...         ...            ...        ...       ...           ...   \n21520         1    4529.316663         43   среднее             1   \n21521         0  343937.404131         67   среднее             1   \n21522         1    2113.346888         38   среднее             1   \n21523         3    3112.481705         38   среднее             1   \n21524         2    1984.507589         40   среднее             1   \n\n          family_status  family_status_id gender income_type  debt  \\\n0       женат / замужем                 0      F   сотрудник     0   \n1       женат / замужем                 0      F   сотрудник     0   \n2       женат / замужем                 0      M   сотрудник     0   \n3       женат / замужем                 0      M   сотрудник     0   \n4      гражданский брак                 1      F   пенсионер     0   \n...                 ...               ...    ...         ...   ...   \n21520  гражданский брак                 1      F   компаньон     0   \n21521   женат / замужем                 0      F   пенсионер     0   \n21522  гражданский брак                 1      M   сотрудник     1   \n21523   женат / замужем                 0      M   сотрудник     1   \n21524   женат / замужем                 0      F   сотрудник     0   \n\n       total_income                       purpose  \n0            253875                 покупка жилья  \n1            112080       приобретение автомобиля  \n2            145885                 покупка жилья  \n3            267628    дополнительное образование  \n4            158616               сыграть свадьбу  \n...             ...                           ...  \n21520        224791             операции с жильем  \n21521        155999          сделка с автомобилем  \n21522         89672                  недвижимость  \n21523        244093  на покупку своего автомобиля  \n21524         82047         на покупку автомобиля  \n\n[21525 rows x 12 columns]",
      "text/html": "<div>\n<style scoped>\n    .dataframe tbody tr th:only-of-type {\n        vertical-align: middle;\n    }\n\n    .dataframe tbody tr th {\n        vertical-align: top;\n    }\n\n    .dataframe thead th {\n        text-align: right;\n    }\n</style>\n<table border=\"1\" class=\"dataframe\">\n  <thead>\n    <tr style=\"text-align: right;\">\n      <th></th>\n      <th>children</th>\n      <th>days_employed</th>\n      <th>dob_years</th>\n      <th>education</th>\n      <th>education_id</th>\n      <th>family_status</th>\n      <th>family_status_id</th>\n      <th>gender</th>\n      <th>income_type</th>\n      <th>debt</th>\n      <th>total_income</th>\n      <th>purpose</th>\n    </tr>\n  </thead>\n  <tbody>\n    <tr>\n      <th>0</th>\n      <td>1</td>\n      <td>8437.673028</td>\n      <td>42</td>\n      <td>высшее</td>\n      <td>0</td>\n      <td>женат / замужем</td>\n      <td>0</td>\n      <td>F</td>\n      <td>сотрудник</td>\n      <td>0</td>\n      <td>253875</td>\n      <td>покупка жилья</td>\n    </tr>\n    <tr>\n      <th>1</th>\n      <td>1</td>\n      <td>4024.803754</td>\n      <td>36</td>\n      <td>среднее</td>\n      <td>1</td>\n      <td>женат / замужем</td>\n      <td>0</td>\n      <td>F</td>\n      <td>сотрудник</td>\n      <td>0</td>\n      <td>112080</td>\n      <td>приобретение автомобиля</td>\n    </tr>\n    <tr>\n      <th>2</th>\n      <td>0</td>\n      <td>5623.422610</td>\n      <td>33</td>\n      <td>Среднее</td>\n      <td>1</td>\n      <td>женат / замужем</td>\n      <td>0</td>\n      <td>M</td>\n      <td>сотрудник</td>\n      <td>0</td>\n      <td>145885</td>\n      <td>покупка жилья</td>\n    </tr>\n    <tr>\n      <th>3</th>\n      <td>3</td>\n      <td>4124.747207</td>\n      <td>32</td>\n      <td>среднее</td>\n      <td>1</td>\n      <td>женат / замужем</td>\n      <td>0</td>\n      <td>M</td>\n      <td>сотрудник</td>\n      <td>0</td>\n      <td>267628</td>\n      <td>дополнительное образование</td>\n    </tr>\n    <tr>\n      <th>4</th>\n      <td>0</td>\n      <td>340266.072047</td>\n      <td>53</td>\n      <td>среднее</td>\n      <td>1</td>\n      <td>гражданский брак</td>\n      <td>1</td>\n      <td>F</td>\n      <td>пенсионер</td>\n      <td>0</td>\n      <td>158616</td>\n      <td>сыграть свадьбу</td>\n    </tr>\n    <tr>\n      <th>...</th>\n      <td>...</td>\n      <td>...</td>\n      <td>...</td>\n      <td>...</td>\n      <td>...</td>\n      <td>...</td>\n      <td>...</td>\n      <td>...</td>\n      <td>...</td>\n      <td>...</td>\n      <td>...</td>\n      <td>...</td>\n    </tr>\n    <tr>\n      <th>21520</th>\n      <td>1</td>\n      <td>4529.316663</td>\n      <td>43</td>\n      <td>среднее</td>\n      <td>1</td>\n      <td>гражданский брак</td>\n      <td>1</td>\n      <td>F</td>\n      <td>компаньон</td>\n      <td>0</td>\n      <td>224791</td>\n      <td>операции с жильем</td>\n    </tr>\n    <tr>\n      <th>21521</th>\n      <td>0</td>\n      <td>343937.404131</td>\n      <td>67</td>\n      <td>среднее</td>\n      <td>1</td>\n      <td>женат / замужем</td>\n      <td>0</td>\n      <td>F</td>\n      <td>пенсионер</td>\n      <td>0</td>\n      <td>155999</td>\n      <td>сделка с автомобилем</td>\n    </tr>\n    <tr>\n      <th>21522</th>\n      <td>1</td>\n      <td>2113.346888</td>\n      <td>38</td>\n      <td>среднее</td>\n      <td>1</td>\n      <td>гражданский брак</td>\n      <td>1</td>\n      <td>M</td>\n      <td>сотрудник</td>\n      <td>1</td>\n      <td>89672</td>\n      <td>недвижимость</td>\n    </tr>\n    <tr>\n      <th>21523</th>\n      <td>3</td>\n      <td>3112.481705</td>\n      <td>38</td>\n      <td>среднее</td>\n      <td>1</td>\n      <td>женат / замужем</td>\n      <td>0</td>\n      <td>M</td>\n      <td>сотрудник</td>\n      <td>1</td>\n      <td>244093</td>\n      <td>на покупку своего автомобиля</td>\n    </tr>\n    <tr>\n      <th>21524</th>\n      <td>2</td>\n      <td>1984.507589</td>\n      <td>40</td>\n      <td>среднее</td>\n      <td>1</td>\n      <td>женат / замужем</td>\n      <td>0</td>\n      <td>F</td>\n      <td>сотрудник</td>\n      <td>0</td>\n      <td>82047</td>\n      <td>на покупку автомобиля</td>\n    </tr>\n  </tbody>\n</table>\n<p>21525 rows × 12 columns</p>\n</div>"
     },
     "execution_count": 74,
     "metadata": {},
     "output_type": "execute_result"
    }
   ],
   "source": [
    "df[['total_income']] = df[['total_income']].astype(int)\n",
    "df"
   ],
   "metadata": {
    "collapsed": false,
    "ExecuteTime": {
     "end_time": "2024-05-26T14:00:43.223724700Z",
     "start_time": "2024-05-26T14:00:43.192993900Z"
    }
   },
   "id": "3824973c99ca9236"
  },
  {
   "cell_type": "markdown",
   "source": [
    "данный блок кода изменяет вещественный тип значений в столбце total_income на целочисленный, используя метод astype"
   ],
   "metadata": {
    "collapsed": false
   },
   "id": "2c0cd5ad219dc952"
  },
  {
   "cell_type": "code",
   "execution_count": 75,
   "outputs": [
    {
     "data": {
      "text/plain": "       children  days_employed  dob_years education  education_id  \\\n0             1    8437.673028         42    высшее             0   \n1             1    4024.803754         36   среднее             1   \n2             0    5623.422610         33   Среднее             1   \n3             3    4124.747207         32   среднее             1   \n4             0  340266.072047         53   среднее             1   \n...         ...            ...        ...       ...           ...   \n21520         1    4529.316663         43   среднее             1   \n21521         0  343937.404131         67   среднее             1   \n21522         1    2113.346888         38   среднее             1   \n21523         3    3112.481705         38   среднее             1   \n21524         2    1984.507589         40   среднее             1   \n\n          family_status  family_status_id gender income_type  debt  \\\n0       женат / замужем                 0      F   сотрудник     0   \n1       женат / замужем                 0      F   сотрудник     0   \n2       женат / замужем                 0      M   сотрудник     0   \n3       женат / замужем                 0      M   сотрудник     0   \n4      гражданский брак                 1      F   пенсионер     0   \n...                 ...               ...    ...         ...   ...   \n21520  гражданский брак                 1      F   компаньон     0   \n21521   женат / замужем                 0      F   пенсионер     0   \n21522  гражданский брак                 1      M   сотрудник     1   \n21523   женат / замужем                 0      M   сотрудник     1   \n21524   женат / замужем                 0      F   сотрудник     0   \n\n       total_income                       purpose  \n0            253875                 покупка жилья  \n1            112080       приобретение автомобиля  \n2            145885                 покупка жилья  \n3            267628    дополнительное образование  \n4            158616               сыграть свадьбу  \n...             ...                           ...  \n21520        224791             операции с жильем  \n21521        155999          сделка с автомобилем  \n21522         89672                  недвижимость  \n21523        244093  на покупку своего автомобиля  \n21524         82047         на покупку автомобиля  \n\n[21471 rows x 12 columns]",
      "text/html": "<div>\n<style scoped>\n    .dataframe tbody tr th:only-of-type {\n        vertical-align: middle;\n    }\n\n    .dataframe tbody tr th {\n        vertical-align: top;\n    }\n\n    .dataframe thead th {\n        text-align: right;\n    }\n</style>\n<table border=\"1\" class=\"dataframe\">\n  <thead>\n    <tr style=\"text-align: right;\">\n      <th></th>\n      <th>children</th>\n      <th>days_employed</th>\n      <th>dob_years</th>\n      <th>education</th>\n      <th>education_id</th>\n      <th>family_status</th>\n      <th>family_status_id</th>\n      <th>gender</th>\n      <th>income_type</th>\n      <th>debt</th>\n      <th>total_income</th>\n      <th>purpose</th>\n    </tr>\n  </thead>\n  <tbody>\n    <tr>\n      <th>0</th>\n      <td>1</td>\n      <td>8437.673028</td>\n      <td>42</td>\n      <td>высшее</td>\n      <td>0</td>\n      <td>женат / замужем</td>\n      <td>0</td>\n      <td>F</td>\n      <td>сотрудник</td>\n      <td>0</td>\n      <td>253875</td>\n      <td>покупка жилья</td>\n    </tr>\n    <tr>\n      <th>1</th>\n      <td>1</td>\n      <td>4024.803754</td>\n      <td>36</td>\n      <td>среднее</td>\n      <td>1</td>\n      <td>женат / замужем</td>\n      <td>0</td>\n      <td>F</td>\n      <td>сотрудник</td>\n      <td>0</td>\n      <td>112080</td>\n      <td>приобретение автомобиля</td>\n    </tr>\n    <tr>\n      <th>2</th>\n      <td>0</td>\n      <td>5623.422610</td>\n      <td>33</td>\n      <td>Среднее</td>\n      <td>1</td>\n      <td>женат / замужем</td>\n      <td>0</td>\n      <td>M</td>\n      <td>сотрудник</td>\n      <td>0</td>\n      <td>145885</td>\n      <td>покупка жилья</td>\n    </tr>\n    <tr>\n      <th>3</th>\n      <td>3</td>\n      <td>4124.747207</td>\n      <td>32</td>\n      <td>среднее</td>\n      <td>1</td>\n      <td>женат / замужем</td>\n      <td>0</td>\n      <td>M</td>\n      <td>сотрудник</td>\n      <td>0</td>\n      <td>267628</td>\n      <td>дополнительное образование</td>\n    </tr>\n    <tr>\n      <th>4</th>\n      <td>0</td>\n      <td>340266.072047</td>\n      <td>53</td>\n      <td>среднее</td>\n      <td>1</td>\n      <td>гражданский брак</td>\n      <td>1</td>\n      <td>F</td>\n      <td>пенсионер</td>\n      <td>0</td>\n      <td>158616</td>\n      <td>сыграть свадьбу</td>\n    </tr>\n    <tr>\n      <th>...</th>\n      <td>...</td>\n      <td>...</td>\n      <td>...</td>\n      <td>...</td>\n      <td>...</td>\n      <td>...</td>\n      <td>...</td>\n      <td>...</td>\n      <td>...</td>\n      <td>...</td>\n      <td>...</td>\n      <td>...</td>\n    </tr>\n    <tr>\n      <th>21520</th>\n      <td>1</td>\n      <td>4529.316663</td>\n      <td>43</td>\n      <td>среднее</td>\n      <td>1</td>\n      <td>гражданский брак</td>\n      <td>1</td>\n      <td>F</td>\n      <td>компаньон</td>\n      <td>0</td>\n      <td>224791</td>\n      <td>операции с жильем</td>\n    </tr>\n    <tr>\n      <th>21521</th>\n      <td>0</td>\n      <td>343937.404131</td>\n      <td>67</td>\n      <td>среднее</td>\n      <td>1</td>\n      <td>женат / замужем</td>\n      <td>0</td>\n      <td>F</td>\n      <td>пенсионер</td>\n      <td>0</td>\n      <td>155999</td>\n      <td>сделка с автомобилем</td>\n    </tr>\n    <tr>\n      <th>21522</th>\n      <td>1</td>\n      <td>2113.346888</td>\n      <td>38</td>\n      <td>среднее</td>\n      <td>1</td>\n      <td>гражданский брак</td>\n      <td>1</td>\n      <td>M</td>\n      <td>сотрудник</td>\n      <td>1</td>\n      <td>89672</td>\n      <td>недвижимость</td>\n    </tr>\n    <tr>\n      <th>21523</th>\n      <td>3</td>\n      <td>3112.481705</td>\n      <td>38</td>\n      <td>среднее</td>\n      <td>1</td>\n      <td>женат / замужем</td>\n      <td>0</td>\n      <td>M</td>\n      <td>сотрудник</td>\n      <td>1</td>\n      <td>244093</td>\n      <td>на покупку своего автомобиля</td>\n    </tr>\n    <tr>\n      <th>21524</th>\n      <td>2</td>\n      <td>1984.507589</td>\n      <td>40</td>\n      <td>среднее</td>\n      <td>1</td>\n      <td>женат / замужем</td>\n      <td>0</td>\n      <td>F</td>\n      <td>сотрудник</td>\n      <td>0</td>\n      <td>82047</td>\n      <td>на покупку автомобиля</td>\n    </tr>\n  </tbody>\n</table>\n<p>21471 rows × 12 columns</p>\n</div>"
     },
     "execution_count": 75,
     "metadata": {},
     "output_type": "execute_result"
    }
   ],
   "source": [
    "df = df.drop_duplicates()\n",
    "df"
   ],
   "metadata": {
    "collapsed": false,
    "ExecuteTime": {
     "end_time": "2024-05-26T14:01:12.624786Z",
     "start_time": "2024-05-26T14:01:12.565310700Z"
    }
   },
   "id": "40682742c44ea051"
  },
  {
   "cell_type": "markdown",
   "source": [
    "используя метод drop_duplicates избавляемся от строк-дубликатов. Вероятно, дубликаты появились при объединении нескольких фреймов данных."
   ],
   "metadata": {
    "collapsed": false
   },
   "id": "b8ad991add8d44fd"
  },
  {
   "cell_type": "code",
   "execution_count": 76,
   "outputs": [
    {
     "data": {
      "text/plain": "       children  days_employed  dob_years education  education_id  \\\n0             1    8437.673028         42    Высшее             0   \n1             1    4024.803754         36   Среднее             1   \n2             0    5623.422610         33   Среднее             1   \n3             3    4124.747207         32   Среднее             1   \n4             0  340266.072047         53   Среднее             1   \n...         ...            ...        ...       ...           ...   \n21520         1    4529.316663         43   Среднее             1   \n21521         0  343937.404131         67   Среднее             1   \n21522         1    2113.346888         38   Среднее             1   \n21523         3    3112.481705         38   Среднее             1   \n21524         2    1984.507589         40   Среднее             1   \n\n          family_status  family_status_id gender income_type  debt  \\\n0       женат / замужем                 0      F   сотрудник     0   \n1       женат / замужем                 0      F   сотрудник     0   \n2       женат / замужем                 0      M   сотрудник     0   \n3       женат / замужем                 0      M   сотрудник     0   \n4      гражданский брак                 1      F   пенсионер     0   \n...                 ...               ...    ...         ...   ...   \n21520  гражданский брак                 1      F   компаньон     0   \n21521   женат / замужем                 0      F   пенсионер     0   \n21522  гражданский брак                 1      M   сотрудник     1   \n21523   женат / замужем                 0      M   сотрудник     1   \n21524   женат / замужем                 0      F   сотрудник     0   \n\n       total_income                       purpose  \n0            253875                 покупка жилья  \n1            112080       приобретение автомобиля  \n2            145885                 покупка жилья  \n3            267628    дополнительное образование  \n4            158616               сыграть свадьбу  \n...             ...                           ...  \n21520        224791             операции с жильем  \n21521        155999          сделка с автомобилем  \n21522         89672                  недвижимость  \n21523        244093  на покупку своего автомобиля  \n21524         82047         на покупку автомобиля  \n\n[21471 rows x 12 columns]",
      "text/html": "<div>\n<style scoped>\n    .dataframe tbody tr th:only-of-type {\n        vertical-align: middle;\n    }\n\n    .dataframe tbody tr th {\n        vertical-align: top;\n    }\n\n    .dataframe thead th {\n        text-align: right;\n    }\n</style>\n<table border=\"1\" class=\"dataframe\">\n  <thead>\n    <tr style=\"text-align: right;\">\n      <th></th>\n      <th>children</th>\n      <th>days_employed</th>\n      <th>dob_years</th>\n      <th>education</th>\n      <th>education_id</th>\n      <th>family_status</th>\n      <th>family_status_id</th>\n      <th>gender</th>\n      <th>income_type</th>\n      <th>debt</th>\n      <th>total_income</th>\n      <th>purpose</th>\n    </tr>\n  </thead>\n  <tbody>\n    <tr>\n      <th>0</th>\n      <td>1</td>\n      <td>8437.673028</td>\n      <td>42</td>\n      <td>Высшее</td>\n      <td>0</td>\n      <td>женат / замужем</td>\n      <td>0</td>\n      <td>F</td>\n      <td>сотрудник</td>\n      <td>0</td>\n      <td>253875</td>\n      <td>покупка жилья</td>\n    </tr>\n    <tr>\n      <th>1</th>\n      <td>1</td>\n      <td>4024.803754</td>\n      <td>36</td>\n      <td>Среднее</td>\n      <td>1</td>\n      <td>женат / замужем</td>\n      <td>0</td>\n      <td>F</td>\n      <td>сотрудник</td>\n      <td>0</td>\n      <td>112080</td>\n      <td>приобретение автомобиля</td>\n    </tr>\n    <tr>\n      <th>2</th>\n      <td>0</td>\n      <td>5623.422610</td>\n      <td>33</td>\n      <td>Среднее</td>\n      <td>1</td>\n      <td>женат / замужем</td>\n      <td>0</td>\n      <td>M</td>\n      <td>сотрудник</td>\n      <td>0</td>\n      <td>145885</td>\n      <td>покупка жилья</td>\n    </tr>\n    <tr>\n      <th>3</th>\n      <td>3</td>\n      <td>4124.747207</td>\n      <td>32</td>\n      <td>Среднее</td>\n      <td>1</td>\n      <td>женат / замужем</td>\n      <td>0</td>\n      <td>M</td>\n      <td>сотрудник</td>\n      <td>0</td>\n      <td>267628</td>\n      <td>дополнительное образование</td>\n    </tr>\n    <tr>\n      <th>4</th>\n      <td>0</td>\n      <td>340266.072047</td>\n      <td>53</td>\n      <td>Среднее</td>\n      <td>1</td>\n      <td>гражданский брак</td>\n      <td>1</td>\n      <td>F</td>\n      <td>пенсионер</td>\n      <td>0</td>\n      <td>158616</td>\n      <td>сыграть свадьбу</td>\n    </tr>\n    <tr>\n      <th>...</th>\n      <td>...</td>\n      <td>...</td>\n      <td>...</td>\n      <td>...</td>\n      <td>...</td>\n      <td>...</td>\n      <td>...</td>\n      <td>...</td>\n      <td>...</td>\n      <td>...</td>\n      <td>...</td>\n      <td>...</td>\n    </tr>\n    <tr>\n      <th>21520</th>\n      <td>1</td>\n      <td>4529.316663</td>\n      <td>43</td>\n      <td>Среднее</td>\n      <td>1</td>\n      <td>гражданский брак</td>\n      <td>1</td>\n      <td>F</td>\n      <td>компаньон</td>\n      <td>0</td>\n      <td>224791</td>\n      <td>операции с жильем</td>\n    </tr>\n    <tr>\n      <th>21521</th>\n      <td>0</td>\n      <td>343937.404131</td>\n      <td>67</td>\n      <td>Среднее</td>\n      <td>1</td>\n      <td>женат / замужем</td>\n      <td>0</td>\n      <td>F</td>\n      <td>пенсионер</td>\n      <td>0</td>\n      <td>155999</td>\n      <td>сделка с автомобилем</td>\n    </tr>\n    <tr>\n      <th>21522</th>\n      <td>1</td>\n      <td>2113.346888</td>\n      <td>38</td>\n      <td>Среднее</td>\n      <td>1</td>\n      <td>гражданский брак</td>\n      <td>1</td>\n      <td>M</td>\n      <td>сотрудник</td>\n      <td>1</td>\n      <td>89672</td>\n      <td>недвижимость</td>\n    </tr>\n    <tr>\n      <th>21523</th>\n      <td>3</td>\n      <td>3112.481705</td>\n      <td>38</td>\n      <td>Среднее</td>\n      <td>1</td>\n      <td>женат / замужем</td>\n      <td>0</td>\n      <td>M</td>\n      <td>сотрудник</td>\n      <td>1</td>\n      <td>244093</td>\n      <td>на покупку своего автомобиля</td>\n    </tr>\n    <tr>\n      <th>21524</th>\n      <td>2</td>\n      <td>1984.507589</td>\n      <td>40</td>\n      <td>Среднее</td>\n      <td>1</td>\n      <td>женат / замужем</td>\n      <td>0</td>\n      <td>F</td>\n      <td>сотрудник</td>\n      <td>0</td>\n      <td>82047</td>\n      <td>на покупку автомобиля</td>\n    </tr>\n  </tbody>\n</table>\n<p>21471 rows × 12 columns</p>\n</div>"
     },
     "execution_count": 76,
     "metadata": {},
     "output_type": "execute_result"
    }
   ],
   "source": [
    "df['education'] = df['education'].str.capitalize()\n",
    "df"
   ],
   "metadata": {
    "collapsed": false,
    "ExecuteTime": {
     "end_time": "2024-05-26T14:01:30.751274Z",
     "start_time": "2024-05-26T14:01:30.719923800Z"
    }
   },
   "id": "dffda6426e1bd951"
  },
  {
   "cell_type": "markdown",
   "source": [
    "В данном блоке кода мы выбираем столбец education и используя метод str.capitalize приводим значения в нем к одному регистру, а именно - первая буква заглавная, остальные строчные. Также в этом же блоке"
   ],
   "metadata": {
    "collapsed": false
   },
   "id": "9318ef51aa3f3ada"
  },
  {
   "cell_type": "code",
   "execution_count": 77,
   "outputs": [
    {
     "data": {
      "text/plain": "                education  education_id\n0                  Высшее             0\n1                 Среднее             1\n13    Неоконченное высшее             2\n31              Начальное             3\n2963       Ученая степень             4",
      "text/html": "<div>\n<style scoped>\n    .dataframe tbody tr th:only-of-type {\n        vertical-align: middle;\n    }\n\n    .dataframe tbody tr th {\n        vertical-align: top;\n    }\n\n    .dataframe thead th {\n        text-align: right;\n    }\n</style>\n<table border=\"1\" class=\"dataframe\">\n  <thead>\n    <tr style=\"text-align: right;\">\n      <th></th>\n      <th>education</th>\n      <th>education_id</th>\n    </tr>\n  </thead>\n  <tbody>\n    <tr>\n      <th>0</th>\n      <td>Высшее</td>\n      <td>0</td>\n    </tr>\n    <tr>\n      <th>1</th>\n      <td>Среднее</td>\n      <td>1</td>\n    </tr>\n    <tr>\n      <th>13</th>\n      <td>Неоконченное высшее</td>\n      <td>2</td>\n    </tr>\n    <tr>\n      <th>31</th>\n      <td>Начальное</td>\n      <td>3</td>\n    </tr>\n    <tr>\n      <th>2963</th>\n      <td>Ученая степень</td>\n      <td>4</td>\n    </tr>\n  </tbody>\n</table>\n</div>"
     },
     "execution_count": 77,
     "metadata": {},
     "output_type": "execute_result"
    }
   ],
   "source": [
    "dfED = pd.DataFrame({'education': df['education'].drop_duplicates(), 'education_id':  df['education_id'].drop_duplicates()})\n",
    "dfED"
   ],
   "metadata": {
    "collapsed": false,
    "ExecuteTime": {
     "end_time": "2024-05-26T14:01:55.820809700Z",
     "start_time": "2024-05-26T14:01:55.786928500Z"
    }
   },
   "id": "a74d6b1de7500783"
  },
  {
   "cell_type": "code",
   "execution_count": 78,
   "outputs": [
    {
     "data": {
      "text/plain": "            family_status  family_status_id\n0         женат / замужем                 0\n4        гражданский брак                 1\n18         вдовец / вдова                 2\n19              в разводе                 3\n24  Не женат / не замужем                 4",
      "text/html": "<div>\n<style scoped>\n    .dataframe tbody tr th:only-of-type {\n        vertical-align: middle;\n    }\n\n    .dataframe tbody tr th {\n        vertical-align: top;\n    }\n\n    .dataframe thead th {\n        text-align: right;\n    }\n</style>\n<table border=\"1\" class=\"dataframe\">\n  <thead>\n    <tr style=\"text-align: right;\">\n      <th></th>\n      <th>family_status</th>\n      <th>family_status_id</th>\n    </tr>\n  </thead>\n  <tbody>\n    <tr>\n      <th>0</th>\n      <td>женат / замужем</td>\n      <td>0</td>\n    </tr>\n    <tr>\n      <th>4</th>\n      <td>гражданский брак</td>\n      <td>1</td>\n    </tr>\n    <tr>\n      <th>18</th>\n      <td>вдовец / вдова</td>\n      <td>2</td>\n    </tr>\n    <tr>\n      <th>19</th>\n      <td>в разводе</td>\n      <td>3</td>\n    </tr>\n    <tr>\n      <th>24</th>\n      <td>Не женат / не замужем</td>\n      <td>4</td>\n    </tr>\n  </tbody>\n</table>\n</div>"
     },
     "execution_count": 78,
     "metadata": {},
     "output_type": "execute_result"
    }
   ],
   "source": [
    "dfFAM_STAT = pd.DataFrame({'family_status': df['family_status'].drop_duplicates(), 'family_status_id':  df['family_status_id'].drop_duplicates()})\n",
    "dfFAM_STAT"
   ],
   "metadata": {
    "collapsed": false,
    "ExecuteTime": {
     "end_time": "2024-05-26T14:02:09.413805500Z",
     "start_time": "2024-05-26T14:02:09.347146400Z"
    }
   },
   "id": "f689947ce53958c7"
  },
  {
   "cell_type": "markdown",
   "source": [
    "\n",
    "В двух предыдущих блоках мы создали два новых датафрейма, в которых хранятся значения уровня образования и его id в первом и статус семьи и его id во втором соответственно"
   ],
   "metadata": {
    "collapsed": false
   },
   "id": "50f21d3628c78988"
  },
  {
   "cell_type": "code",
   "execution_count": 79,
   "outputs": [
    {
     "data": {
      "text/plain": "       children  days_employed  dob_years  education_id  family_status_id  \\\n0             1    8437.673028         42             0                 0   \n1             1    4024.803754         36             1                 0   \n2             0    5623.422610         33             1                 0   \n3             3    4124.747207         32             1                 0   \n4             0  340266.072047         53             1                 1   \n...         ...            ...        ...           ...               ...   \n21520         1    4529.316663         43             1                 1   \n21521         0  343937.404131         67             1                 0   \n21522         1    2113.346888         38             1                 1   \n21523         3    3112.481705         38             1                 0   \n21524         2    1984.507589         40             1                 0   \n\n      gender income_type  debt  total_income                       purpose  \n0          F   сотрудник     0        253875                 покупка жилья  \n1          F   сотрудник     0        112080       приобретение автомобиля  \n2          M   сотрудник     0        145885                 покупка жилья  \n3          M   сотрудник     0        267628    дополнительное образование  \n4          F   пенсионер     0        158616               сыграть свадьбу  \n...      ...         ...   ...           ...                           ...  \n21520      F   компаньон     0        224791             операции с жильем  \n21521      F   пенсионер     0        155999          сделка с автомобилем  \n21522      M   сотрудник     1         89672                  недвижимость  \n21523      M   сотрудник     1        244093  на покупку своего автомобиля  \n21524      F   сотрудник     0         82047         на покупку автомобиля  \n\n[21471 rows x 10 columns]",
      "text/html": "<div>\n<style scoped>\n    .dataframe tbody tr th:only-of-type {\n        vertical-align: middle;\n    }\n\n    .dataframe tbody tr th {\n        vertical-align: top;\n    }\n\n    .dataframe thead th {\n        text-align: right;\n    }\n</style>\n<table border=\"1\" class=\"dataframe\">\n  <thead>\n    <tr style=\"text-align: right;\">\n      <th></th>\n      <th>children</th>\n      <th>days_employed</th>\n      <th>dob_years</th>\n      <th>education_id</th>\n      <th>family_status_id</th>\n      <th>gender</th>\n      <th>income_type</th>\n      <th>debt</th>\n      <th>total_income</th>\n      <th>purpose</th>\n    </tr>\n  </thead>\n  <tbody>\n    <tr>\n      <th>0</th>\n      <td>1</td>\n      <td>8437.673028</td>\n      <td>42</td>\n      <td>0</td>\n      <td>0</td>\n      <td>F</td>\n      <td>сотрудник</td>\n      <td>0</td>\n      <td>253875</td>\n      <td>покупка жилья</td>\n    </tr>\n    <tr>\n      <th>1</th>\n      <td>1</td>\n      <td>4024.803754</td>\n      <td>36</td>\n      <td>1</td>\n      <td>0</td>\n      <td>F</td>\n      <td>сотрудник</td>\n      <td>0</td>\n      <td>112080</td>\n      <td>приобретение автомобиля</td>\n    </tr>\n    <tr>\n      <th>2</th>\n      <td>0</td>\n      <td>5623.422610</td>\n      <td>33</td>\n      <td>1</td>\n      <td>0</td>\n      <td>M</td>\n      <td>сотрудник</td>\n      <td>0</td>\n      <td>145885</td>\n      <td>покупка жилья</td>\n    </tr>\n    <tr>\n      <th>3</th>\n      <td>3</td>\n      <td>4124.747207</td>\n      <td>32</td>\n      <td>1</td>\n      <td>0</td>\n      <td>M</td>\n      <td>сотрудник</td>\n      <td>0</td>\n      <td>267628</td>\n      <td>дополнительное образование</td>\n    </tr>\n    <tr>\n      <th>4</th>\n      <td>0</td>\n      <td>340266.072047</td>\n      <td>53</td>\n      <td>1</td>\n      <td>1</td>\n      <td>F</td>\n      <td>пенсионер</td>\n      <td>0</td>\n      <td>158616</td>\n      <td>сыграть свадьбу</td>\n    </tr>\n    <tr>\n      <th>...</th>\n      <td>...</td>\n      <td>...</td>\n      <td>...</td>\n      <td>...</td>\n      <td>...</td>\n      <td>...</td>\n      <td>...</td>\n      <td>...</td>\n      <td>...</td>\n      <td>...</td>\n    </tr>\n    <tr>\n      <th>21520</th>\n      <td>1</td>\n      <td>4529.316663</td>\n      <td>43</td>\n      <td>1</td>\n      <td>1</td>\n      <td>F</td>\n      <td>компаньон</td>\n      <td>0</td>\n      <td>224791</td>\n      <td>операции с жильем</td>\n    </tr>\n    <tr>\n      <th>21521</th>\n      <td>0</td>\n      <td>343937.404131</td>\n      <td>67</td>\n      <td>1</td>\n      <td>0</td>\n      <td>F</td>\n      <td>пенсионер</td>\n      <td>0</td>\n      <td>155999</td>\n      <td>сделка с автомобилем</td>\n    </tr>\n    <tr>\n      <th>21522</th>\n      <td>1</td>\n      <td>2113.346888</td>\n      <td>38</td>\n      <td>1</td>\n      <td>1</td>\n      <td>M</td>\n      <td>сотрудник</td>\n      <td>1</td>\n      <td>89672</td>\n      <td>недвижимость</td>\n    </tr>\n    <tr>\n      <th>21523</th>\n      <td>3</td>\n      <td>3112.481705</td>\n      <td>38</td>\n      <td>1</td>\n      <td>0</td>\n      <td>M</td>\n      <td>сотрудник</td>\n      <td>1</td>\n      <td>244093</td>\n      <td>на покупку своего автомобиля</td>\n    </tr>\n    <tr>\n      <th>21524</th>\n      <td>2</td>\n      <td>1984.507589</td>\n      <td>40</td>\n      <td>1</td>\n      <td>0</td>\n      <td>F</td>\n      <td>сотрудник</td>\n      <td>0</td>\n      <td>82047</td>\n      <td>на покупку автомобиля</td>\n    </tr>\n  </tbody>\n</table>\n<p>21471 rows × 10 columns</p>\n</div>"
     },
     "execution_count": 79,
     "metadata": {},
     "output_type": "execute_result"
    }
   ],
   "source": [
    "df = df.drop(columns=['education','family_status'])\n",
    "df"
   ],
   "metadata": {
    "collapsed": false,
    "ExecuteTime": {
     "end_time": "2024-05-26T14:02:26.455656900Z",
     "start_time": "2024-05-26T14:02:26.396370200Z"
    }
   },
   "id": "391071201e9e34d0"
  },
  {
   "cell_type": "markdown",
   "source": [
    "\n",
    "удаляем столбцы education и family_status"
   ],
   "metadata": {
    "collapsed": false
   },
   "id": "e148bd0b80f90e60"
  },
  {
   "cell_type": "code",
   "execution_count": 81,
   "outputs": [
    {
     "data": {
      "text/plain": "       children  days_employed  dob_years  education_id  family_status_id  \\\n0             1    8437.673028         42             0                 0   \n1             1    4024.803754         36             1                 0   \n2             0    5623.422610         33             1                 0   \n3             3    4124.747207         32             1                 0   \n4             0  340266.072047         53             1                 1   \n...         ...            ...        ...           ...               ...   \n21520         1    4529.316663         43             1                 1   \n21521         0  343937.404131         67             1                 0   \n21522         1    2113.346888         38             1                 1   \n21523         3    3112.481705         38             1                 0   \n21524         2    1984.507589         40             1                 0   \n\n      gender income_type  debt  total_income                       purpose  \\\n0          F   сотрудник     0        253875                 покупка жилья   \n1          F   сотрудник     0        112080       приобретение автомобиля   \n2          M   сотрудник     0        145885                 покупка жилья   \n3          M   сотрудник     0        267628    дополнительное образование   \n4          F   пенсионер     0        158616               сыграть свадьбу   \n...      ...         ...   ...           ...                           ...   \n21520      F   компаньон     0        224791             операции с жильем   \n21521      F   пенсионер     0        155999          сделка с автомобилем   \n21522      M   сотрудник     1         89672                  недвижимость   \n21523      M   сотрудник     1        244093  на покупку своего автомобиля   \n21524      F   сотрудник     0         82047         на покупку автомобиля   \n\n      total_income_category  \n0                         B  \n1                         C  \n2                         C  \n3                         B  \n4                         C  \n...                     ...  \n21520                     B  \n21521                     C  \n21522                     C  \n21523                     B  \n21524                     C  \n\n[21471 rows x 11 columns]",
      "text/html": "<div>\n<style scoped>\n    .dataframe tbody tr th:only-of-type {\n        vertical-align: middle;\n    }\n\n    .dataframe tbody tr th {\n        vertical-align: top;\n    }\n\n    .dataframe thead th {\n        text-align: right;\n    }\n</style>\n<table border=\"1\" class=\"dataframe\">\n  <thead>\n    <tr style=\"text-align: right;\">\n      <th></th>\n      <th>children</th>\n      <th>days_employed</th>\n      <th>dob_years</th>\n      <th>education_id</th>\n      <th>family_status_id</th>\n      <th>gender</th>\n      <th>income_type</th>\n      <th>debt</th>\n      <th>total_income</th>\n      <th>purpose</th>\n      <th>total_income_category</th>\n    </tr>\n  </thead>\n  <tbody>\n    <tr>\n      <th>0</th>\n      <td>1</td>\n      <td>8437.673028</td>\n      <td>42</td>\n      <td>0</td>\n      <td>0</td>\n      <td>F</td>\n      <td>сотрудник</td>\n      <td>0</td>\n      <td>253875</td>\n      <td>покупка жилья</td>\n      <td>B</td>\n    </tr>\n    <tr>\n      <th>1</th>\n      <td>1</td>\n      <td>4024.803754</td>\n      <td>36</td>\n      <td>1</td>\n      <td>0</td>\n      <td>F</td>\n      <td>сотрудник</td>\n      <td>0</td>\n      <td>112080</td>\n      <td>приобретение автомобиля</td>\n      <td>C</td>\n    </tr>\n    <tr>\n      <th>2</th>\n      <td>0</td>\n      <td>5623.422610</td>\n      <td>33</td>\n      <td>1</td>\n      <td>0</td>\n      <td>M</td>\n      <td>сотрудник</td>\n      <td>0</td>\n      <td>145885</td>\n      <td>покупка жилья</td>\n      <td>C</td>\n    </tr>\n    <tr>\n      <th>3</th>\n      <td>3</td>\n      <td>4124.747207</td>\n      <td>32</td>\n      <td>1</td>\n      <td>0</td>\n      <td>M</td>\n      <td>сотрудник</td>\n      <td>0</td>\n      <td>267628</td>\n      <td>дополнительное образование</td>\n      <td>B</td>\n    </tr>\n    <tr>\n      <th>4</th>\n      <td>0</td>\n      <td>340266.072047</td>\n      <td>53</td>\n      <td>1</td>\n      <td>1</td>\n      <td>F</td>\n      <td>пенсионер</td>\n      <td>0</td>\n      <td>158616</td>\n      <td>сыграть свадьбу</td>\n      <td>C</td>\n    </tr>\n    <tr>\n      <th>...</th>\n      <td>...</td>\n      <td>...</td>\n      <td>...</td>\n      <td>...</td>\n      <td>...</td>\n      <td>...</td>\n      <td>...</td>\n      <td>...</td>\n      <td>...</td>\n      <td>...</td>\n      <td>...</td>\n    </tr>\n    <tr>\n      <th>21520</th>\n      <td>1</td>\n      <td>4529.316663</td>\n      <td>43</td>\n      <td>1</td>\n      <td>1</td>\n      <td>F</td>\n      <td>компаньон</td>\n      <td>0</td>\n      <td>224791</td>\n      <td>операции с жильем</td>\n      <td>B</td>\n    </tr>\n    <tr>\n      <th>21521</th>\n      <td>0</td>\n      <td>343937.404131</td>\n      <td>67</td>\n      <td>1</td>\n      <td>0</td>\n      <td>F</td>\n      <td>пенсионер</td>\n      <td>0</td>\n      <td>155999</td>\n      <td>сделка с автомобилем</td>\n      <td>C</td>\n    </tr>\n    <tr>\n      <th>21522</th>\n      <td>1</td>\n      <td>2113.346888</td>\n      <td>38</td>\n      <td>1</td>\n      <td>1</td>\n      <td>M</td>\n      <td>сотрудник</td>\n      <td>1</td>\n      <td>89672</td>\n      <td>недвижимость</td>\n      <td>C</td>\n    </tr>\n    <tr>\n      <th>21523</th>\n      <td>3</td>\n      <td>3112.481705</td>\n      <td>38</td>\n      <td>1</td>\n      <td>0</td>\n      <td>M</td>\n      <td>сотрудник</td>\n      <td>1</td>\n      <td>244093</td>\n      <td>на покупку своего автомобиля</td>\n      <td>B</td>\n    </tr>\n    <tr>\n      <th>21524</th>\n      <td>2</td>\n      <td>1984.507589</td>\n      <td>40</td>\n      <td>1</td>\n      <td>0</td>\n      <td>F</td>\n      <td>сотрудник</td>\n      <td>0</td>\n      <td>82047</td>\n      <td>на покупку автомобиля</td>\n      <td>C</td>\n    </tr>\n  </tbody>\n</table>\n<p>21471 rows × 11 columns</p>\n</div>"
     },
     "execution_count": 81,
     "metadata": {},
     "output_type": "execute_result"
    }
   ],
   "source": [
    "def tot_inc_cat(row):\n",
    "    if row['total_income'] <= 30000:\n",
    "        return \"E\"\n",
    "    elif row['total_income'] >= 30001 and row['total_income'] <= 50000:\n",
    "        return \"D\"\n",
    "    elif row['total_income'] >= 50001 and row['total_income'] <= 200000:\n",
    "        return \"C\"\n",
    "    elif row['total_income'] >= 200001 and row['total_income'] <= 1000000:\n",
    "        return \"B\"\n",
    "    else:\n",
    "        return \"A\"\n",
    "    \n",
    "df['total_income_category'] = df.apply(tot_inc_cat, axis=1)\n",
    "df"
   ],
   "metadata": {
    "collapsed": false,
    "ExecuteTime": {
     "end_time": "2024-05-26T14:02:48.717730600Z",
     "start_time": "2024-05-26T14:02:48.465283400Z"
    }
   },
   "id": "bd29819917648566"
  },
  {
   "cell_type": "markdown",
   "source": [
    "Разделяем категории заработка"
   ],
   "metadata": {
    "collapsed": false
   },
   "id": "3be6b37c6b7e328c"
  },
  {
   "cell_type": "code",
   "execution_count": 82,
   "outputs": [
    {
     "data": {
      "text/plain": "       children  days_employed  dob_years  education_id  family_status_id  \\\n0             1    8437.673028         42             0                 0   \n1             1    4024.803754         36             1                 0   \n2             0    5623.422610         33             1                 0   \n3             3    4124.747207         32             1                 0   \n4             0  340266.072047         53             1                 1   \n...         ...            ...        ...           ...               ...   \n21520         1    4529.316663         43             1                 1   \n21521         0  343937.404131         67             1                 0   \n21522         1    2113.346888         38             1                 1   \n21523         3    3112.481705         38             1                 0   \n21524         2    1984.507589         40             1                 0   \n\n      gender income_type  debt  total_income                       purpose  \\\n0          F   сотрудник     0        253875                 покупка жилья   \n1          F   сотрудник     0        112080       приобретение автомобиля   \n2          M   сотрудник     0        145885                 покупка жилья   \n3          M   сотрудник     0        267628    дополнительное образование   \n4          F   пенсионер     0        158616               сыграть свадьбу   \n...      ...         ...   ...           ...                           ...   \n21520      F   компаньон     0        224791             операции с жильем   \n21521      F   пенсионер     0        155999          сделка с автомобилем   \n21522      M   сотрудник     1         89672                  недвижимость   \n21523      M   сотрудник     1        244093  на покупку своего автомобиля   \n21524      F   сотрудник     0         82047         на покупку автомобиля   \n\n      total_income_category          purpose_category  \n0                         B  Операции с недвижимостью  \n1                         C    Операции с автомобилем  \n2                         C  Операции с недвижимостью  \n3                         B     Получение образования  \n4                         C        Проведение свадьбы  \n...                     ...                       ...  \n21520                     B  Операции с недвижимостью  \n21521                     C    Операции с автомобилем  \n21522                     C  Операции с недвижимостью  \n21523                     B    Операции с автомобилем  \n21524                     C    Операции с автомобилем  \n\n[21471 rows x 12 columns]",
      "text/html": "<div>\n<style scoped>\n    .dataframe tbody tr th:only-of-type {\n        vertical-align: middle;\n    }\n\n    .dataframe tbody tr th {\n        vertical-align: top;\n    }\n\n    .dataframe thead th {\n        text-align: right;\n    }\n</style>\n<table border=\"1\" class=\"dataframe\">\n  <thead>\n    <tr style=\"text-align: right;\">\n      <th></th>\n      <th>children</th>\n      <th>days_employed</th>\n      <th>dob_years</th>\n      <th>education_id</th>\n      <th>family_status_id</th>\n      <th>gender</th>\n      <th>income_type</th>\n      <th>debt</th>\n      <th>total_income</th>\n      <th>purpose</th>\n      <th>total_income_category</th>\n      <th>purpose_category</th>\n    </tr>\n  </thead>\n  <tbody>\n    <tr>\n      <th>0</th>\n      <td>1</td>\n      <td>8437.673028</td>\n      <td>42</td>\n      <td>0</td>\n      <td>0</td>\n      <td>F</td>\n      <td>сотрудник</td>\n      <td>0</td>\n      <td>253875</td>\n      <td>покупка жилья</td>\n      <td>B</td>\n      <td>Операции с недвижимостью</td>\n    </tr>\n    <tr>\n      <th>1</th>\n      <td>1</td>\n      <td>4024.803754</td>\n      <td>36</td>\n      <td>1</td>\n      <td>0</td>\n      <td>F</td>\n      <td>сотрудник</td>\n      <td>0</td>\n      <td>112080</td>\n      <td>приобретение автомобиля</td>\n      <td>C</td>\n      <td>Операции с автомобилем</td>\n    </tr>\n    <tr>\n      <th>2</th>\n      <td>0</td>\n      <td>5623.422610</td>\n      <td>33</td>\n      <td>1</td>\n      <td>0</td>\n      <td>M</td>\n      <td>сотрудник</td>\n      <td>0</td>\n      <td>145885</td>\n      <td>покупка жилья</td>\n      <td>C</td>\n      <td>Операции с недвижимостью</td>\n    </tr>\n    <tr>\n      <th>3</th>\n      <td>3</td>\n      <td>4124.747207</td>\n      <td>32</td>\n      <td>1</td>\n      <td>0</td>\n      <td>M</td>\n      <td>сотрудник</td>\n      <td>0</td>\n      <td>267628</td>\n      <td>дополнительное образование</td>\n      <td>B</td>\n      <td>Получение образования</td>\n    </tr>\n    <tr>\n      <th>4</th>\n      <td>0</td>\n      <td>340266.072047</td>\n      <td>53</td>\n      <td>1</td>\n      <td>1</td>\n      <td>F</td>\n      <td>пенсионер</td>\n      <td>0</td>\n      <td>158616</td>\n      <td>сыграть свадьбу</td>\n      <td>C</td>\n      <td>Проведение свадьбы</td>\n    </tr>\n    <tr>\n      <th>...</th>\n      <td>...</td>\n      <td>...</td>\n      <td>...</td>\n      <td>...</td>\n      <td>...</td>\n      <td>...</td>\n      <td>...</td>\n      <td>...</td>\n      <td>...</td>\n      <td>...</td>\n      <td>...</td>\n      <td>...</td>\n    </tr>\n    <tr>\n      <th>21520</th>\n      <td>1</td>\n      <td>4529.316663</td>\n      <td>43</td>\n      <td>1</td>\n      <td>1</td>\n      <td>F</td>\n      <td>компаньон</td>\n      <td>0</td>\n      <td>224791</td>\n      <td>операции с жильем</td>\n      <td>B</td>\n      <td>Операции с недвижимостью</td>\n    </tr>\n    <tr>\n      <th>21521</th>\n      <td>0</td>\n      <td>343937.404131</td>\n      <td>67</td>\n      <td>1</td>\n      <td>0</td>\n      <td>F</td>\n      <td>пенсионер</td>\n      <td>0</td>\n      <td>155999</td>\n      <td>сделка с автомобилем</td>\n      <td>C</td>\n      <td>Операции с автомобилем</td>\n    </tr>\n    <tr>\n      <th>21522</th>\n      <td>1</td>\n      <td>2113.346888</td>\n      <td>38</td>\n      <td>1</td>\n      <td>1</td>\n      <td>M</td>\n      <td>сотрудник</td>\n      <td>1</td>\n      <td>89672</td>\n      <td>недвижимость</td>\n      <td>C</td>\n      <td>Операции с недвижимостью</td>\n    </tr>\n    <tr>\n      <th>21523</th>\n      <td>3</td>\n      <td>3112.481705</td>\n      <td>38</td>\n      <td>1</td>\n      <td>0</td>\n      <td>M</td>\n      <td>сотрудник</td>\n      <td>1</td>\n      <td>244093</td>\n      <td>на покупку своего автомобиля</td>\n      <td>B</td>\n      <td>Операции с автомобилем</td>\n    </tr>\n    <tr>\n      <th>21524</th>\n      <td>2</td>\n      <td>1984.507589</td>\n      <td>40</td>\n      <td>1</td>\n      <td>0</td>\n      <td>F</td>\n      <td>сотрудник</td>\n      <td>0</td>\n      <td>82047</td>\n      <td>на покупку автомобиля</td>\n      <td>C</td>\n      <td>Операции с автомобилем</td>\n    </tr>\n  </tbody>\n</table>\n<p>21471 rows × 12 columns</p>\n</div>"
     },
     "execution_count": 82,
     "metadata": {},
     "output_type": "execute_result"
    }
   ],
   "source": [
    "def purp_cat(row):\n",
    "    if 'авто' in row['purpose']:\n",
    "        return 'Операции с автомобилем'\n",
    "    elif 'недвиж' in row['purpose'] or 'жил' in row['purpose']:\n",
    "        return 'Операции с недвижимостью'\n",
    "    elif 'свадьб' in row['purpose']:\n",
    "        return 'Проведение свадьбы'\n",
    "    else:\n",
    "        return 'Получение образования'\n",
    "\n",
    "df['purpose_category'] = df.apply(purp_cat, axis=1)\n",
    "df"
   ],
   "metadata": {
    "collapsed": false,
    "ExecuteTime": {
     "end_time": "2024-05-26T14:03:10.986591300Z",
     "start_time": "2024-05-26T14:03:10.805389200Z"
    }
   },
   "id": "c9cfa1bb9617ce57"
  },
  {
   "cell_type": "markdown",
   "source": [
    "Приводим цели получения кредита к общему виду"
   ],
   "metadata": {
    "collapsed": false
   },
   "id": "5a01b228eaabfb0"
  }
 ],
 "metadata": {
  "kernelspec": {
   "display_name": "Python 3",
   "language": "python",
   "name": "python3"
  },
  "language_info": {
   "codemirror_mode": {
    "name": "ipython",
    "version": 2
   },
   "file_extension": ".py",
   "mimetype": "text/x-python",
   "name": "python",
   "nbconvert_exporter": "python",
   "pygments_lexer": "ipython2",
   "version": "2.7.6"
  }
 },
 "nbformat": 4,
 "nbformat_minor": 5
}
